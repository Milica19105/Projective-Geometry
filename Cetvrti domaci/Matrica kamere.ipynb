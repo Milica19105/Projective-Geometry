{
 "cells": [
  {
   "cell_type": "raw",
   "metadata": {},
   "source": [
    "1) Napisati funkciju ParametriKamere(T) koja za datu 3x4 matricu kamere T\n",
    "odredjuje parametre kamere, redom K,A,C (prvu matricu normirati po k33). Koristiti neku biblioteku koja ima QR dekompoziciju matrice. "
   ]
  },
  {
   "cell_type": "code",
   "execution_count": 1,
   "metadata": {},
   "outputs": [],
   "source": [
    "import numpy as np\n",
    "from numpy import linalg as lg"
   ]
  },
  {
   "cell_type": "code",
   "execution_count": 2,
   "metadata": {},
   "outputs": [],
   "source": [
    "def ParametriKamere(T):\n",
    "    T0 = T[:, :-1]\n",
    "\n",
    "    #resenje problema za linalg.qr\n",
    "    if lg.det(T0) < 0:\n",
    "        T = -T\n",
    "\n",
    "    c1 = lg.det(T[:, 1:])\n",
    "    c2 = -lg.det(np.array([T[:,0], T[:,2], T[:,3]]).T)\n",
    "    c3 = lg.det(np.array([T[:,0], T[:,1], T[:,3]]).T)\n",
    "    c4 = -lg.det(T[:, :-1])\n",
    "\n",
    "    c1 = c1/c4\n",
    "    c2 = c2/c4\n",
    "    c3 = c3/c4\n",
    "\n",
    "    C = np.array([c1, c2, c3])\n",
    "\n",
    "    Q, R = lg.qr(lg.inv(T0))\n",
    "\n",
    "    #resavanje problema za linalg.qr\n",
    "    if R[0][0] < 0:\n",
    "        R[0] = -R[0]\n",
    "        Q[:,0] = -Q[:,0]\n",
    "    if R[1][1] < 0:\n",
    "        R[1] = -R[1]\n",
    "        Q[:,1] = -Q[:,1]\n",
    "    if R[2][2] < 0:\n",
    "        R[2] = -R[2]\n",
    "        Q[:,2] = -Q[:,2]\n",
    "\n",
    "    A = Q.T\n",
    "    K = T0.dot(Q)\n",
    "\n",
    "    if K[2][2] != 1:\n",
    "        K = K / K[2][2]\n",
    "\n",
    "    return K, A, C"
   ]
  },
  {
   "cell_type": "code",
   "execution_count": 3,
   "metadata": {},
   "outputs": [],
   "source": [
    "#poslednja cifra indeksa 105/2019 --> 5\n",
    "n=5"
   ]
  },
  {
   "cell_type": "code",
   "execution_count": 4,
   "metadata": {},
   "outputs": [],
   "source": [
    "T = np.array([[5, -1-2*n, 3, 18-3*n],\n",
    "             [0, -1, 5, 21],\n",
    "             [0, -1, 0, 1]])"
   ]
  },
  {
   "cell_type": "code",
   "execution_count": 5,
   "metadata": {},
   "outputs": [
    {
     "name": "stdout",
     "output_type": "stream",
     "text": [
      "Parametar K:\n",
      " [[ 5.  3. 11.]\n",
      " [ 0.  5.  1.]\n",
      " [ 0.  0.  1.]]\n",
      "Parametar A:\n",
      " [[ 1.  0.  0.]\n",
      " [ 0.  0.  1.]\n",
      " [-0. -1. -0.]]\n",
      "Parametar C:\n",
      " [ 4.  1. -4.]\n",
      "\n",
      "\n"
     ]
    }
   ],
   "source": [
    "K, A, C = ParametriKamere(T)\n",
    "print(\"Parametar K:\\n\", K.round(5))\n",
    "print(\"Parametar A:\\n\", A.round(5))\n",
    "print(\"Parametar C:\\n\", C.round(5))\n",
    "print(\"\\n\")"
   ]
  },
  {
   "cell_type": "raw",
   "metadata": {},
   "source": [
    "2)Napisati funkciju CameraDLP(originali, projekcije) koja za datih n (n>=6) tačaka prostora i\n",
    "n njihovih projekcija u piksel koordinatama, odredjuje 3x4 matricu projektovanja."
   ]
  },
  {
   "cell_type": "code",
   "execution_count": 6,
   "metadata": {},
   "outputs": [],
   "source": [
    "M1 = np.array([460, 280, 250, 1])\n",
    "M2 = np.array([50, 380, 350, 1])\n",
    "M3 = np.array([470, 500, 100, 1])\n",
    "M4 = np.array([380, 630, 50*n, 1])\n",
    "M5 = np.array([30*n, 290, 0, 1])\n",
    "M6 = np.array([580, 0, 130, 1])"
   ]
  },
  {
   "cell_type": "code",
   "execution_count": 7,
   "metadata": {},
   "outputs": [],
   "source": [
    "M1p = np.array([288, 251, 1])\n",
    "M2p = np.array([79, 510, 1])\n",
    "M3p = np.array([470, 440, 1])\n",
    "M4p = np.array([520, 590, 1])\n",
    "M5p = np.array([365, 388, 1])\n",
    "M6p = np.array([365, 20, 1])"
   ]
  },
  {
   "cell_type": "code",
   "execution_count": 8,
   "metadata": {},
   "outputs": [],
   "source": [
    "originali = np.array([M1, M2, M3, M4, M5, M6])\n",
    "projekcije = np.array([M1p, M2p, M3p, M4p, M5p, M6p])"
   ]
  },
  {
   "cell_type": "code",
   "execution_count": 9,
   "metadata": {},
   "outputs": [],
   "source": [
    "def CameraDLP(originali, projekcije):\n",
    "    x = originali[0][0]\n",
    "    y = originali[0][1]\n",
    "    z = originali[0][2]\n",
    "    t = originali[0][3]\n",
    "\n",
    "    xp = projekcije[0][0]\n",
    "    yp = projekcije[0][1]\n",
    "    zp = projekcije[0][2]\n",
    "\n",
    "    A = np.array([\n",
    "        [0, 0, 0, 0, -zp*x, -zp*y, -zp*z, -zp*t, yp*x, yp*y, yp*z, yp*t],\n",
    "        [zp*x, zp*y, zp*z, zp*t, 0, 0, 0, 0, -xp*x, -xp*y, -xp*z, -xp*t]\n",
    "    ])\n",
    "\n",
    "    for i in range(1, len(originali)):\n",
    "        x = originali[i][0]\n",
    "        y = originali[i][1]\n",
    "        z = originali[i][2]\n",
    "        t = originali[i][3]\n",
    "\n",
    "\n",
    "        xp = projekcije[i][0]\n",
    "        yp = projekcije[i][1]\n",
    "        zp = projekcije[i][2]\n",
    "\n",
    "        row1 = np.array([0, 0, 0, 0, -zp*x, -zp*y, -zp*z, -zp*t, yp*x, yp*y, yp*z, yp*t])\n",
    "        row2 = np.array([zp*x, zp*y, zp*z, zp*t, 0, 0, 0, 0, -xp*x, -xp*y, -xp*z, -xp*t])\n",
    "\n",
    "        A = np.vstack((A, row1))\n",
    "        A = np.vstack((A, row2))\n",
    "\n",
    "    U,S,V = np.linalg.svd(A)\n",
    "\n",
    "    T = V[-1].reshape(3,4)\n",
    "    \n",
    "    return T"
   ]
  },
  {
   "cell_type": "code",
   "execution_count": 10,
   "metadata": {},
   "outputs": [
    {
     "name": "stdout",
     "output_type": "stream",
     "text": [
      "Matrica kamere T:\n",
      " [[ 1.00000000e+00 -1.02231495e+00  4.54073651e+00 -1.30562534e+03]\n",
      " [ 1.62801576e+00 -1.04567521e+00  4.12295127e+00 -1.48624279e+03]\n",
      " [ 4.06741738e-03 -1.51186292e-03  1.08775247e-02 -4.14687646e+00]]\n",
      "\n",
      "\n"
     ]
    }
   ],
   "source": [
    "T = CameraDLP(originali, projekcije)\n",
    "T = T / T[0][0] \n",
    "print(\"Matrica kamere T:\\n\", T)\n",
    "print(\"\\n\")"
   ]
  },
  {
   "cell_type": "raw",
   "metadata": {},
   "source": [
    "3)Postaviti 3D scenu kao na slici sa proizvoljnim objektima.\n",
    "Izaberete najmanje 6  tacaka i odredite im 3D koordinate i odredite pixel koordinate projekcija.\n",
    "Koristeci funkciju pod 2) odredite matricu kamere T, a zatim koristeci funkciju pod 1) \n",
    "odrediti parametre kamere K, kao i polozaj kamere (C i A)."
   ]
  },
  {
   "cell_type": "code",
   "execution_count": 11,
   "metadata": {},
   "outputs": [],
   "source": [
    "#koordinate izmerene metrom u svetskom koordinatnom sistemu (u milimetrima)\n",
    "A1 = np.array([107, 197, 39, 1])\n",
    "A2 = np.array([0,188,141,1])\n",
    "A3 = np.array([126,220, 18, 1])\n",
    "A4 = np.array([105, 314, 0, 1])\n",
    "A5 = np.array([313, 160, 56, 1])\n",
    "A6 = np.array([241, 70, 39, 1])\n",
    "\n",
    "\n",
    "#piksel koordinate projekcije (slika je dimenzija 450x575)\n",
    "A1p = np.array([212,378,1])\n",
    "A2p = np.array([257,221,1])\n",
    "A3p = np.array([229,381,1])\n",
    "A4p = np.array([330,416,1])\n",
    "A5p = np.array([39,516,1])\n",
    "A6p = np.array([23,372,1])"
   ]
  },
  {
   "cell_type": "code",
   "execution_count": 12,
   "metadata": {},
   "outputs": [],
   "source": [
    "moji_originali = np.array([A1, A2, A3, A4, A5, A6])\n",
    "moje_projekcije = np.array([A1p, A2p, A3p, A4p, A5p, A6p])"
   ]
  },
  {
   "cell_type": "code",
   "execution_count": 13,
   "metadata": {},
   "outputs": [
    {
     "name": "stdout",
     "output_type": "stream",
     "text": [
      "Matrica kamere T:\n",
      " [[ 1.00000000e+00 -4.49419554e-01  4.63190856e-01 -2.38257396e+02]\n",
      " [ 3.46188314e+00  1.95394479e+00  5.14213742e+00 -1.31355300e+03]\n",
      " [ 8.19956559e-03  4.16136349e-03  8.59438713e-03 -2.99374516e+00]]\n",
      "\n",
      "\n",
      "Parametar K:\n",
      " [[ 65.12583 -21.55499  65.08423]\n",
      " [  0.       84.18269 509.49337]\n",
      " [  0.       -0.        1.     ]]\n",
      "\n",
      "\n",
      "Parametar A:\n",
      " [[ 0.34534 -0.93063  0.12113]\n",
      " [-0.67552 -0.1569   0.72046]\n",
      " [ 0.65147  0.33063  0.68284]]\n",
      "\n",
      "\n",
      "Parametar C:\n",
      " [285.40249 122.26448  16.84609]\n",
      "\n",
      "\n"
     ]
    }
   ],
   "source": [
    "moje_T = CameraDLP(moji_originali, moje_projekcije)\n",
    "moje_T = moje_T / moje_T[0][0] \n",
    "print(\"Matrica kamere T:\\n\", moje_T)\n",
    "print(\"\\n\")\n",
    "moje_K, moje_A, moje_C = ParametriKamere(moje_T)\n",
    "print(\"Parametar K:\\n\", moje_K.round(5))\n",
    "print(\"\\n\")\n",
    "print(\"Parametar A:\\n\", moje_A.round(5))\n",
    "print(\"\\n\")\n",
    "print(\"Parametar C:\\n\", moje_C.round(5))\n",
    "print(\"\\n\")"
   ]
  },
  {
   "cell_type": "code",
   "execution_count": null,
   "metadata": {},
   "outputs": [],
   "source": []
  },
  {
   "cell_type": "code",
   "execution_count": null,
   "metadata": {},
   "outputs": [],
   "source": []
  },
  {
   "cell_type": "code",
   "execution_count": null,
   "metadata": {},
   "outputs": [],
   "source": []
  }
 ],
 "metadata": {
  "kernelspec": {
   "display_name": "Python 3",
   "language": "python",
   "name": "python3"
  },
  "language_info": {
   "codemirror_mode": {
    "name": "ipython",
    "version": 3
   },
   "file_extension": ".py",
   "mimetype": "text/x-python",
   "name": "python",
   "nbconvert_exporter": "python",
   "pygments_lexer": "ipython3",
   "version": "3.8.5"
  }
 },
 "nbformat": 4,
 "nbformat_minor": 4
}
