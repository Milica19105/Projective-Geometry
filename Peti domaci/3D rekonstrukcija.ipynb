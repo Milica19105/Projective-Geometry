{
 "cells": [
  {
   "cell_type": "code",
   "execution_count": 1,
   "metadata": {},
   "outputs": [],
   "source": [
    "import math\n",
    "import numpy as np\n",
    "from numpy import linalg as LA\n",
    "import matplotlib.pyplot as plt\n",
    "from mpl_toolkits.mplot3d import Axes3D\n",
    "from mpl_toolkits import mplot3d\n",
    "from mpl_toolkits.mplot3d.art3d import Poly3DCollection, Line3DCollection"
   ]
  },
  {
   "cell_type": "code",
   "execution_count": 2,
   "metadata": {},
   "outputs": [],
   "source": [
    "#Koordinate tacaka sa leve slike\n",
    "#nevidljive tacke: 7 i 15\n",
    "\n",
    "\n",
    "#piramida\n",
    "x1=np.array([158,610,1])\n",
    "x2=np.array([173,539,1])\n",
    "x3=np.array([98,568,1])\n",
    "x4=np.array([129,553,1])\n",
    "#kutija od cipela\n",
    "x5=np.array([296,618,1])\n",
    "x6=np.array([461,481,1])\n",
    "#x7\n",
    "x8=np.array([87,402,1])\n",
    "x9=np.array([294,544,1])\n",
    "x10=np.array([471,396,1])\n",
    "x11=np.array([227,254,1])\n",
    "x12=np.array([70,330,1])\n",
    "#kutija od sijalice\n",
    "x13=np.array([238,435,1])\n",
    "x14=np.array([306,420,1])\n",
    "#x15\n",
    "x16=np.array([207,366,1])\n",
    "x17=np.array([238,384,1])\n",
    "x18=np.array([310,366,1])\n",
    "x19=np.array([270,297,1])\n",
    "x20=np.array([201,307,1])"
   ]
  },
  {
   "cell_type": "code",
   "execution_count": 3,
   "metadata": {},
   "outputs": [],
   "source": [
    "#Koordinate tacaka sa desne slike\n",
    "#nevidljive tacke: 7 i 16\n",
    "\n",
    "#piramida\n",
    "y1=np.array([23,627,1])\n",
    "y2=np.array([129,587,1])\n",
    "y3=np.array([62,531,1])\n",
    "y4=np.array([61,560,1])\n",
    "#kutija od cipela\n",
    "y5=np.array([168,535,1])\n",
    "y6=np.array([472,355,1])\n",
    "#y7\n",
    "y8=np.array([48,347,1])\n",
    "y9=np.array([150,455,1])\n",
    "y10=np.array([500,264,1])\n",
    "y11=np.array([339,170,1])\n",
    "y12=np.array([30,285,1])\n",
    "#kutija od sijalice\n",
    "y13=np.array([205,301,1])\n",
    "y14=np.array([263,329,1])\n",
    "y15=np.array([338,258,1])\n",
    "#y16\n",
    "y17=np.array([197,237,1])\n",
    "y18=np.array([261,267,1])\n",
    "y19=np.array([344,199,1])\n",
    "y20=np.array([282,178,1])"
   ]
  },
  {
   "cell_type": "code",
   "execution_count": 4,
   "metadata": {},
   "outputs": [
    {
     "name": "stdout",
     "output_type": "stream",
     "text": [
      "x7: [233 320   1]\n",
      "x15: [269 352   1]\n",
      "y7: [333 226   1]\n",
      "y16: [281 244   1]\n"
     ]
    }
   ],
   "source": [
    "#Rekonstrukcija skrivenih tacaka\n",
    "x7 = np.cross(np.cross(np.cross(np.cross(x12, x8), np.cross(x6, x10)), x11),\n",
    "              np.cross(np.cross(np.cross(x11, x12), np.cross(x9, x10)), x8))\n",
    "x7 = x7 / x7[2]\n",
    "a7=math.floor(x7[0])\n",
    "b7=math.floor(x7[1])\n",
    "xp7=np.array([a7,b7,1])\n",
    "\n",
    "#_______________________________________________\n",
    "\n",
    "x15 = np.cross(np.cross(np.cross(np.cross(x20, x16), np.cross(x14, x18)), x19),\n",
    "              np.cross(np.cross(np.cross(x19, x20), np.cross(x17, x18)), x16))\n",
    "x15= x15 / x15[2]\n",
    "a15=math.floor(x15[0])\n",
    "b15=math.floor(x15[1])\n",
    "xp15=np.array([a15,b15,1])\n",
    "\n",
    "#_______________________________________________\n",
    "\n",
    "y7 = np.cross(np.cross(np.cross(np.cross(y12, y8), np.cross(y6, y10)), y11),\n",
    "              np.cross(np.cross(np.cross(y11, y12), np.cross(y9, y10)), y8))\n",
    "y7 = y7 / y7[2]\n",
    "y7.round()\n",
    "\n",
    "c7=math.floor(y7[0])\n",
    "d7=math.floor(y7[1])\n",
    "yp7=np.array([c7,d7,1])\n",
    "\n",
    "#_______________________________________________\n",
    "\n",
    "y16 = np.cross(np.cross(np.cross(np.cross(y17, y13), np.cross(y15, y19)), y20),\n",
    "              np.cross(np.cross(np.cross(y20, y19), np.cross(y18, y19)), y13))\n",
    "y16 = y16 / y16[2]\n",
    "\n",
    "\n",
    "c16=math.floor(y16[0])\n",
    "d16=math.floor(y16[1])\n",
    "yp16=np.array([c16,d16,1])\n",
    "\n",
    "\n",
    "print('x7:',xp7)\n",
    "print('x15:',xp15)\n",
    "print('y7:',yp7)\n",
    "print('y16:',yp16)"
   ]
  },
  {
   "cell_type": "markdown",
   "metadata": {},
   "source": [
    "Morala sam da radim sa math.floor da bih lepo dobila ceo broj da vidite da sam lepe koordinate dobila\n",
    "jer mi round iz numpy nesto nije radio\n",
    "(nije pravio nikakvu razliku)\n",
    "Ali za fundamentalnu matricu sam koristila obicne x7 x15 y7 i y16 "
   ]
  },
  {
   "cell_type": "code",
   "execution_count": 5,
   "metadata": {},
   "outputs": [],
   "source": [
    "X=np.array([x1,x2,x3,x4,x5,x6,xp7,x8,x9,x10,x11,x12,x13,x14,x15,x16,x16,x17,x18,x19,x20])\n",
    "Y=np.array([y1,y2,y3,y4,y5,y6,yp7,y8,y9,y10,y11,y12,y13,y14,y15,y16,y17,y18,y19,y20])"
   ]
  },
  {
   "cell_type": "code",
   "execution_count": 6,
   "metadata": {},
   "outputs": [],
   "source": [
    "# print(X)\n",
    "# print('\\n',Y)"
   ]
  },
  {
   "cell_type": "markdown",
   "metadata": {},
   "source": [
    "Fundamentalna matrica"
   ]
  },
  {
   "cell_type": "code",
   "execution_count": 7,
   "metadata": {},
   "outputs": [],
   "source": [
    "#Fundamentalna matrica \n",
    "XX=np.array([x5,x6,x7,x8,x9,x10,x11,x12])\n",
    "YY=np.array([y5,y6,y7,y8,y9,y10,y11,y12])"
   ]
  },
  {
   "cell_type": "code",
   "execution_count": 8,
   "metadata": {},
   "outputs": [
    {
     "name": "stdout",
     "output_type": "stream",
     "text": [
      "Fundamentalna matrica:\n",
      "[[ 3.3720000e-05 -5.2590000e-05  9.6162600e-03]\n",
      " [ 8.0970000e-05  6.3000000e-07 -7.8430560e-02]\n",
      " [-4.2826210e-02  6.9223420e-02  9.9354426e-01]]\n"
     ]
    }
   ],
   "source": [
    "def jed(l, r):\n",
    "    x1 = l[0]\n",
    "    y1 = l[1]\n",
    "    z1 = l[2]\n",
    "\n",
    "    x2 = r[0]\n",
    "    y2 = r[1]\n",
    "    z2 = r[2]\n",
    "\n",
    "    return np.array([x1*x2, y1*x2, z1*x2, \n",
    "                     x1*y2, y1*y2, z1*y2, \n",
    "                     x1*z2, y1*z2, z1*z2])\n",
    "jed8 = []\n",
    "for i in range(8):  \n",
    "    jed8.append(jed(XX[i], YY[i]))\n",
    "\n",
    "# SVD\n",
    "U, S, V = LA.svd(jed8)\n",
    "\n",
    "# FF\n",
    "FF = np.zeros((3, 3))\n",
    "V = V[:][-1]\n",
    "\n",
    "for i in range(3):\n",
    "    for j in range(3):\n",
    "        FF[i][j] = V[3*i+j]\n",
    "\n",
    "print(\"Fundamentalna matrica:\")\n",
    "print(FF.round(8))"
   ]
  },
  {
   "cell_type": "code",
   "execution_count": 9,
   "metadata": {},
   "outputs": [
    {
     "name": "stdout",
     "output_type": "stream",
     "text": [
      "6.484448785185188e-08\n"
     ]
    }
   ],
   "source": [
    "# Provera da li je YY.T * FF * XX = 0\n",
    "C = np.ones((8, 1))\n",
    "for i in range(8):\n",
    "    C[i][0] = round(YY[i].T.dot(FF).dot(XX[i]), 5)\n",
    "\n",
    "print(LA.det(FF)) # treba da bude blizu 0"
   ]
  },
  {
   "cell_type": "code",
   "execution_count": 10,
   "metadata": {},
   "outputs": [
    {
     "name": "stdout",
     "output_type": "stream",
     "text": [
      "e1:\n",
      "[0.85595368 0.51705178 0.00087079]\n",
      "Afine koordinate e1: [982.96732063 593.77629057   1.        ]\n",
      "\n",
      "e2:\n",
      "[9.91246929e-01 1.32018338e-01 8.27534110e-04]\n",
      "Afine koordinate e2: [1.19783211e+03 1.59532201e+02 1.00000000e+00]\n"
     ]
    }
   ],
   "source": [
    "#epipolovi\n",
    "U, S, V = LA.svd(FF)\n",
    "\n",
    "print(\"e1:\")\n",
    "e1 = V[:][-1] # treca vrsta matrice V \n",
    "print(e1)\n",
    "#afine koordinate\n",
    "e1 = (1/e1[2]) * e1\n",
    "print('Afine koordinate e1:',e1)\n",
    "\n",
    "print(\"\\ne2:\")\n",
    "e2 = U.T[:][-1] # treca kolona matrice U (tj. treca vrsta od U.T)\n",
    "print(e2)\n",
    "# afine koordinate\n",
    "e2 = (1/e2[2]) * e2 \n",
    "print('Afine koordinate e2:',e2)"
   ]
  },
  {
   "cell_type": "code",
   "execution_count": 11,
   "metadata": {},
   "outputs": [
    {
     "name": "stdout",
     "output_type": "stream",
     "text": [
      "[[0.99997953 0.         0.        ]\n",
      " [0.         0.00639897 0.        ]\n",
      " [0.         0.         0.        ]]\n",
      "\n",
      "\n",
      "[[ 2.51213846e-05 -5.77822882e-05  9.61625262e-03]\n",
      " [ 7.98272155e-05 -6.22802670e-08 -7.84305636e-02]\n",
      " [-4.28262126e-02  6.92234160e-02  9.93544261e-01]]\n",
      "\n",
      "\n",
      "6.484448785185188e-08\n",
      "2.8743909930986943e-23\n",
      "\n",
      "Koristicemo FF1\n",
      "\n",
      "\n",
      "\n",
      "\n"
     ]
    }
   ],
   "source": [
    "S = np.array([[S[0], 0, 0],\n",
    "              [0, S[1], 0],\n",
    "              [0, 0, 0]])\n",
    "print(S)\n",
    "print(\"\\n\")\n",
    "\n",
    "FF1 = U.dot(S).dot(V)\n",
    "print(FF1)\n",
    "\n",
    "print(\"\\n\")\n",
    "print(LA.det(FF))\n",
    "print(LA.det(FF1))\n",
    "\n",
    "# det(FF1) < det(FF) pa cemo koristiti FF1\n",
    "if LA.det(FF)>LA.det(FF1):\n",
    "    print(\"\\nKoristicemo FF1\")\n",
    "\n",
    "print(\"\\n\")\n",
    "print(\"\\n\")\n"
   ]
  },
  {
   "cell_type": "markdown",
   "metadata": {},
   "source": [
    "Triangulacija"
   ]
  },
  {
   "cell_type": "code",
   "execution_count": 12,
   "metadata": {},
   "outputs": [
    {
     "name": "stdout",
     "output_type": "stream",
     "text": [
      "T1:\n",
      "[[1 0 0 0]\n",
      " [0 1 0 0]\n",
      " [0 0 1 0]]\n",
      "\n",
      "\n",
      "E2:\n",
      "[[ 0.00000000e+00 -1.00000000e+00  1.59532201e+02]\n",
      " [ 1.00000000e+00  0.00000000e+00 -1.19783211e+03]\n",
      " [-1.59532201e+02  1.19783211e+03  0.00000000e+00]]\n",
      "\n",
      "\n",
      "T2:\n",
      "[[-6.83223977e+00  1.10433640e+01  1.58580733e+02  1.19783211e+03]\n",
      " [ 5.12986377e+01 -8.29180882e+01 -1.19008960e+03  1.59532201e+02]\n",
      " [ 9.16119322e-02  9.14353432e-03 -9.54807494e+01  1.00000000e+00]]\n",
      "\n",
      "\n",
      "----------------------------------------------------------------------------\n",
      "[[-23.77846644 -97.3092517  -56.61748627]\n",
      " [-13.38321167 -47.02880042 -27.40019816]\n",
      " [-10.03334834 -61.65192859 -40.50363169]\n",
      " [-13.97647552 -65.96380003 -41.37047612]\n",
      " [-19.56987044 -42.11612139 -26.28086357]\n",
      " [-12.96256991 -15.74358307 -11.22373642]\n",
      " [ -7.44308397 -11.3591552  -13.16773007]\n",
      " [-12.27169146 -57.77384342 -56.94028933]\n",
      " [-22.14411833 -42.45681958 -30.18626555]\n",
      " [-12.05450149 -12.41108364 -10.45570383]\n",
      " [ -7.14798374  -8.94222256 -13.0186    ]\n",
      " [-13.65324374 -65.35618561 -78.70508778]\n",
      " [-13.88516001 -23.90112342 -22.89298542]\n",
      " [-14.00388051 -21.83488108 -18.66718005]\n",
      " [ -8.73854777 -13.18861988 -13.385166  ]\n",
      " [ -8.28656896 -14.10291461 -15.79423962]\n",
      " [-12.90296211 -20.44637344 -23.89011662]\n",
      " [-10.49916211 -17.17241351 -17.71913074]\n",
      " [-11.52128208 -12.58036274 -14.49857382]\n",
      " [-11.73266633 -13.26613496 -17.52766043]\n",
      " [  0.           0.           0.        ]]\n"
     ]
    }
   ],
   "source": [
    "# Kanonska matrica kamere\n",
    "T1 = np.array([[1, 0, 0, 0],\n",
    "               [0, 1, 0, 0],\n",
    "               [0, 0, 1, 0]])\n",
    "print(\"T1:\")\n",
    "print(T1)\n",
    "print(\"\\n\")\n",
    "\n",
    "\n",
    "# Matrica vektorskog mnozenja kao kod Rodrigeza\n",
    "E2 = np.array([[0, -e2[2], e2[1]],\n",
    "               [e2[2], 0, -e2[0]],\n",
    "               [-e2[1], e2[0], 0]])\n",
    "print(\"E2:\")\n",
    "print(E2)\n",
    "print(\"\\n\")\n",
    "\n",
    "\n",
    "# Matrica druge kamere\n",
    "tmp = E2.dot(FF1)\n",
    "T2 = np.array([[tmp[0][0], tmp[0][1], tmp[0][2], e2[0]],\n",
    "               [tmp[1][0], tmp[1][1], tmp[1][2], e2[1]],\n",
    "               [tmp[2][0], tmp[2][1], tmp[2][2], e2[2]]])\n",
    "print(\"T2:\")\n",
    "print(T2)\n",
    "print(\"\\n\")\n",
    "\n",
    "\n",
    "# Za svaku tacku dobijamo sistem od 4 jednacine sa 4 homogene nepoznate\n",
    "def jednacine(l, d):\n",
    "    return np.array([l[1]*T1[2] - l[2]*T1[1],\n",
    "                    -l[0]*T1[2] + l[2]*T1[0],\n",
    "                    d[1]*T2[2] - d[2]*T2[1],\n",
    "                    -d[0]*T2[2] + d[2]*T2[0]])\n",
    "\n",
    "# Vracamo 3D koordinate\n",
    "def TriD(l, r):\n",
    "    U, S, V = LA.svd(jednacine(l, r))\n",
    "    P = V[-1]\n",
    "    P = P / P[3]\n",
    "    return P[:-1]\n",
    "\n",
    "\n",
    "reconstructed = []\n",
    "length=len(X)\n",
    "for i in range(20): # len(X) JE 20\n",
    "    reconstructed.append(TriD(X[i], Y[i]))\n",
    "print(\"----------------------------------------------------------------------------\")\n",
    "\n",
    "# Mnozimo z koordinatu sa nekoliko stotina\n",
    "tmp = np.eye(3)\n",
    "tmp[2][2] = 400\n",
    "reconstructed_400 = np.zeros((len(X),3))\n",
    "for i in range(20): # len(X) JE 20\n",
    "    reconstructed_400[i] = tmp.dot(reconstructed[i])\n",
    "\n",
    "print(reconstructed_400)\n",
    "R = reconstructed_400"
   ]
  },
  {
   "cell_type": "markdown",
   "metadata": {},
   "source": [
    "ISCRTAVANJE"
   ]
  },
  {
   "cell_type": "markdown",
   "metadata": {},
   "source": [
    "ISCRTAVANJE"
   ]
  },
  {
   "cell_type": "code",
   "execution_count": 13,
   "metadata": {},
   "outputs": [],
   "source": [
    "iviceVelika =  np.array([[5, 6], [6, 7], [7, 8], [8, 5],\n",
    "                         [9, 10], [10, 11], [11, 12], [12,  9], \n",
    "                        [5, 9], [6, 10], [7, 11], [8, 12]])\n",
    "\n",
    "iviceMala = np.array([[13, 14], [14, 15], [15, 16], [16, 13], \n",
    "                      [17, 18], [18, 19], [19, 20], [20, 17],\n",
    "                      [13, 17], [14, 18], [15, 19], [16, 20]])"
   ]
  },
  {
   "cell_type": "code",
   "execution_count": 14,
   "metadata": {},
   "outputs": [
    {
     "data": {
      "image/png": "[encoded data removed]",
      "text/plain": [
       "<Figure size 432x288 with 1 Axes>"
      ]
     },
     "metadata": {
      "needs_background": "light"
     },
     "output_type": "display_data"
    }
   ],
   "source": [
    "rekonstruisane_faktor = np.zeros((20, 3))\n",
    "for i in range(20):\n",
    "        rekonstruisane_faktor[i][0] = R[i][0]\n",
    "        rekonstruisane_faktor[i][1] = R[i][1]\n",
    "        rekonstruisane_faktor[i][2] = R[i][2]*1000\n",
    "        \n",
    "\n",
    "fig = plt.figure()\n",
    "ax = plt.axes(projection='3d')\n",
    "\n",
    "for ivica in iviceVelika:\n",
    "    ax.plot3D([rekonstruisane_faktor[ivica[0] - 1][0], rekonstruisane_faktor[ivica[1] - 1][0]],\n",
    "              [rekonstruisane_faktor[ivica[0] - 1][1], rekonstruisane_faktor[ivica[1] - 1][1]], \n",
    "              [rekonstruisane_faktor[ivica[0] - 1][2], rekonstruisane_faktor[ivica[1] - 1][2]], 'red')\n",
    "\n",
    "for ivice in iviceMala:\n",
    "    ax.plot3D([rekonstruisane_faktor[ivice[0] - 1][0], rekonstruisane_faktor[ivice[1] - 1][0]], \n",
    "              [rekonstruisane_faktor[ivice[0] - 1][1], rekonstruisane_faktor[ivice[1] - 1][1]], \n",
    "              [rekonstruisane_faktor[ivice[0] - 1][2], rekonstruisane_faktor[ivice[1] - 1][2]], 'blue')\n",
    "\n",
    "plt.gca().invert_yaxis()\n",
    "plt.show()"
   ]
  },
  {
   "cell_type": "code",
   "execution_count": null,
   "metadata": {},
   "outputs": [],
   "source": []
  },
  {
   "cell_type": "code",
   "execution_count": null,
   "metadata": {},
   "outputs": [],
   "source": []
  },
  {
   "cell_type": "code",
   "execution_count": null,
   "metadata": {},
   "outputs": [],
   "source": []
  }
 ],
 "metadata": {
  "kernelspec": {
   "display_name": "Python 3",
   "language": "python",
   "name": "python3"
  },
  "language_info": {
   "codemirror_mode": {
    "name": "ipython",
    "version": 3
   },
   "file_extension": ".py",
   "mimetype": "text/x-python",
   "name": "python",
   "nbconvert_exporter": "python",
   "pygments_lexer": "ipython3",
   "version": "3.8.5"
  }
 },
 "nbformat": 4,
 "nbformat_minor": 4
}
