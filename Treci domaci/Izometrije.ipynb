{
 "cells": [
  {
   "cell_type": "code",
   "execution_count": 1,
   "metadata": {},
   "outputs": [],
   "source": [
    "import numpy as np\n",
    "import math\n",
    "from numpy import linalg as LA\n",
    "from fractions import Fraction\n",
    "import warnings\n",
    "warnings.filterwarnings(\"ignore\", category=np.VisibleDeprecationWarning) "
   ]
  },
  {
   "cell_type": "markdown",
   "metadata": {},
   "source": [
    "# 1. Euler2A"
   ]
  },
  {
   "cell_type": "markdown",
   "metadata": {},
   "source": [
    "Euler2A[psi,theta,phi]-vraca matricu A = RZ(psi)RY(theta)RX(phi):"
   ]
  },
  {
   "cell_type": "code",
   "execution_count": 2,
   "metadata": {},
   "outputs": [],
   "source": [
    "def Euler2A(phi, theta, psi):\n",
    "    \n",
    "    R_x = np.array([[1, 0, 0],\n",
    "                    [0, math.cos(phi), -math.sin(phi)],\n",
    "                    [0, math.sin(phi), math.cos(phi)]])\n",
    "\n",
    "    R_y = np.array([[math.cos(theta), 0, math.sin(theta)],\n",
    "                    [0, 1, 0],\n",
    "                    [-math.sin(theta), 0, math.cos(theta)]])\n",
    "\n",
    "    R_z = np.array([[math.cos(psi), -math.sin(psi), 0],\n",
    "                    [math.sin(psi), math.cos(psi), 0],\n",
    "                    [0, 0, 1]])\n",
    "\n",
    "\n",
    "    A = (R_z.dot(R_y)).dot(R_x)\n",
    "    return A"
   ]
  },
  {
   "cell_type": "code",
   "execution_count": 3,
   "metadata": {},
   "outputs": [],
   "source": [
    "# A = Euler2A(-math.atan(1/4),-math.asin(8/9),math.atan(4))\n",
    "# print(\"Matrica A za zadati test primer:\")\n",
    "# print(A)\n",
    "# print(\"\\n\")\n",
    "\n",
    "# #Broj indeksa je 105\n",
    "# phi_test=2*math.pi/8*(105%7+1)\n",
    "# theta_test=math.pi/17*(105%8+1)\n",
    "# psi_test=2*math.pi/6*(105%5+1)\n",
    "# TEST = Euler2A(phi_test,theta_test,psi_test)\n",
    "# print(\"Matrica A za n koji je jednak mom broju indeksa 105:\")\n",
    "# print(TEST)\n"
   ]
  },
  {
   "cell_type": "markdown",
   "metadata": {},
   "source": [
    "# 2. AxisAngle[A]"
   ]
  },
  {
   "cell_type": "markdown",
   "metadata": {},
   "source": [
    "AxisAngle[A]-vraca jedinični vektor p=(px;py;pz)i ugao phi tako da A=Rp(phi):"
   ]
  },
  {
   "cell_type": "code",
   "execution_count": 4,
   "metadata": {},
   "outputs": [],
   "source": [
    "def crossProduct(r, q):\n",
    "    p = np.zeros((1, 3))\n",
    "        \n",
    "    p[0][0] = r[1]*q[2] - r[2]*q[1]\n",
    "    p[0][1] = r[2]*q[0] - r[0]*q[2]\n",
    "    p[0][2] = r[0]*q[1] - r[1]*q[0]\n",
    "\n",
    "    return p"
   ]
  },
  {
   "cell_type": "code",
   "execution_count": 5,
   "metadata": {},
   "outputs": [],
   "source": [
    "def AxisAngle(A):\n",
    "    E=np.eye(3)\n",
    "#     prvi_uslov = A.dot(A.T).round(5) == E\n",
    "#     prvi_uslov = prvi_uslov.all()\n",
    "#     drugi_uslov = np.linalg.det(A) == 1.0    \n",
    "#     if not prvi_uslov or not drugi_uslov:\n",
    "#         print(\"Matrica A nije matrica kretanja\")\n",
    "#         return -1, -1\n",
    "\n",
    "    X = A - E\n",
    "\n",
    "    r = np.array([X[0][0], X[0][1], X[0][2]])\n",
    "    q = np.array([X[1][0], X[1][1], X[1][2]])\n",
    "\n",
    "    p=crossProduct(r,q)\n",
    "    #print(p)\n",
    "\n",
    "    if p[0][0] == 0 and p[0][1] == 0 and p[0][2] == 0: \n",
    "        q = np.array([X[2][0], X[2][1], X[2][2]])\n",
    "\n",
    "    p_norm = math.sqrt(p[0][0]**2 + p[0][1]**2 + p[0][2]**2)\n",
    "    p = p * (1/p_norm)\n",
    "\n",
    "    \n",
    "    r_norm = math.sqrt(r[0]**2 + r[1]**2 + r[2]**2)\n",
    "    u = r * (1/r_norm) \n",
    "\n",
    "    up = A.dot(u)\n",
    "\n",
    "    cos_phi = np.dot(u, up)\n",
    "    phi = math.acos(cos_phi)\n",
    "\n",
    "    return p, phi"
   ]
  },
  {
   "cell_type": "code",
   "execution_count": 6,
   "metadata": {},
   "outputs": [],
   "source": [
    "# p, phi1 = AxisAngle(A)\n",
    "# print(\"Test primer\")\n",
    "# print(\"p:\")\n",
    "# print(p)\n",
    "# print(\"\\nUgao:\")\n",
    "# print(phi1)\n",
    "# print(\"\\n\")\n",
    "\n",
    "# print(\"Test primer za moj index\")\n",
    "# print(\"p:\")\n",
    "# p_test, phi1_test = AxisAngle(TEST)\n",
    "# print(p_test)\n",
    "# print(\"\\nUgao:\")\n",
    "# print(phi1_test)\n"
   ]
  },
  {
   "cell_type": "markdown",
   "metadata": {},
   "source": [
    "# 3. Rodrigez[p,phi]"
   ]
  },
  {
   "cell_type": "markdown",
   "metadata": {},
   "source": [
    "Rodrigez[p,phi] - vraća matricu rotacije oko orjentisanog (jediničnog) vektora p za ugao phi ."
   ]
  },
  {
   "cell_type": "code",
   "execution_count": 7,
   "metadata": {},
   "outputs": [],
   "source": [
    "def rodrigez(p, phi):\n",
    "\n",
    "    E=np.eye(3)\n",
    "#     uslov = int(p[0][0]**2+p[0][1]**2+p[0][2]**2)+1\n",
    "#     if uslov!=1.0:\n",
    "#         print(\"Vektor p nije jedinicni!\")\n",
    "#         return -1\n",
    "    \n",
    "\n",
    "    R = p.T.dot(p)\n",
    "    Q = E - R\n",
    "    R = R + math.cos(phi)*Q\n",
    "\n",
    "    p_x = np.array([[0, -p[0][2], p[0][1]],\n",
    "                    [p[0][2], 0, -p[0][0]],\n",
    "                    [-p[0][1], p[0][0], 0]])\n",
    "\n",
    "    R = R + math.sin(phi)*p_x\n",
    "\n",
    "    return R\n"
   ]
  },
  {
   "cell_type": "code",
   "execution_count": 8,
   "metadata": {},
   "outputs": [],
   "source": [
    "# print(\"Test primer\")\n",
    "# R = rodrigez(p,phi1)\n",
    "# print(R)\n",
    "# print(\"\\n\")\n",
    "# print(\"Test primer za moj index\")\n",
    "# R_test = rodrigez(p_test,phi1_test)\n",
    "# print(R_test)"
   ]
  },
  {
   "cell_type": "markdown",
   "metadata": {},
   "source": [
    "# 4. A2Euler[A] "
   ]
  },
  {
   "cell_type": "markdown",
   "metadata": {},
   "source": [
    "A2Euler[A] - za datu ortogonalnu matricu A, det(A) = 1, vraca Ojlerove uglove psi,theta,phi redom."
   ]
  },
  {
   "cell_type": "code",
   "execution_count": 9,
   "metadata": {},
   "outputs": [],
   "source": [
    "def A2Euler(A):\n",
    "#     uslov = np.linalg.det(A)\n",
    "#     if uslov!=1.0:\n",
    "#         print(\"Matrica A nije ortogonalna!\")\n",
    "#         return -1, -1, -1\n",
    "\n",
    "    a = A[2][0]\n",
    "\n",
    "    if a == 1:\n",
    "        theta = -math.pi / 2\n",
    "        phi = 0\n",
    "        psi = math.atan2(-A[0][1], A[1][1])\n",
    "        theta = math.pi / 2\n",
    "        phi = 0\n",
    "        psi = math.atan2(-A[0][1], A[1][1])\n",
    "    else:\n",
    "        theta = math.asin(-a)\n",
    "        phi = math.atan2(A[2][1], A[2][2])\n",
    "        psi = math.atan2(A[1][0], A[0][0])\n",
    "    \n",
    "    return phi, theta, psi"
   ]
  },
  {
   "cell_type": "code",
   "execution_count": 10,
   "metadata": {},
   "outputs": [],
   "source": [
    "# print(\"Test primer:\")\n",
    "# phi, theta, psi = A2Euler(A)\n",
    "# print(\"Phi: \", phi) \n",
    "# print(\"Theta: \", theta)\n",
    "# print(\"Psi: \", psi)\n",
    "# print(\"\\n\")\n",
    "\n",
    "\n",
    "# print(\"Test primer za moj index\")\n",
    "# phi_test,theta_test,psi_test=A2Euler(TEST)\n",
    "# print(\"Phi: \", phi_test) \n",
    "# print(\"Theta: \", theta_test)\n",
    "# print(\"Psi: \", psi_test)"
   ]
  },
  {
   "cell_type": "markdown",
   "metadata": {},
   "source": [
    "# 5. AxisAngle2Q[p,phi]"
   ]
  },
  {
   "cell_type": "markdown",
   "metadata": {},
   "source": [
    "AxisAngle2Q[p,phi] - vraća jednični kvaternion q =(x,y,z,w) tako da Cq = Rp(phi).Vektor p je jednični.\n",
    "\n"
   ]
  },
  {
   "cell_type": "code",
   "execution_count": 11,
   "metadata": {},
   "outputs": [],
   "source": [
    "def AxisAngle2Q(p, phi):\n",
    "    uslov = (p[0][0]**2+p[0][1]**2+p[0][2]**2)\n",
    "    if uslov==1.0:\n",
    "        print(\"Vektor p nije jedinicni!\")\n",
    "        norma = math.sqrt(p[0][0]**2+p[0][1]**2+p[0][2]**2)\n",
    "        p = p * (1/norma)\n",
    "\n",
    "    w = math.cos(phi/2)\n",
    "\n",
    "    r = math.sin(phi/2) * p\n",
    "\n",
    "    q = np.array([r, w])\n",
    "    \n",
    "#[array([[ 0.23570226, -0.47140452,  0.47140452]]) 0.7071067811865476] da nam ne bi ispalo ovako radimo sledece:\n",
    "    q = np.array([q[0][0][0], q[0][0][1], q[0][0][2], q[1]])\n",
    "\n",
    "    return q    "
   ]
  },
  {
   "cell_type": "code",
   "execution_count": 12,
   "metadata": {},
   "outputs": [],
   "source": [
    "# q = AxisAngle2Q(p, phi1)\n",
    "# print(\"Kvaternion:\")\n",
    "# print(q)"
   ]
  },
  {
   "cell_type": "markdown",
   "metadata": {},
   "source": [
    "# 6. Q2AxisAngle[q]"
   ]
  },
  {
   "cell_type": "markdown",
   "metadata": {},
   "source": [
    "Q2AxisAngle[q]-vraća jedinični vektor p=(px,py,pz) i ugao phi tako da kvaternion predstavlja rotaciju Rp(phi),tj.\n",
    "Cq=Rp(phi):"
   ]
  },
  {
   "cell_type": "code",
   "execution_count": 13,
   "metadata": {},
   "outputs": [],
   "source": [
    "def Q2AxisAngle(q):\n",
    "    uslov = (q[0]**2+q[1]**2+q[2]**2+q[3]**2).round(3)\n",
    "    if uslov!=1.0:\n",
    "        print(\"Kvaternion nije jedincni!\")\n",
    "        norma = math.sqrt(q[0]**2+q[1]**2+q[2]**2+q[3]**2)\n",
    "        q = q * (1/norma)\n",
    "\n",
    "    w = q[3]\n",
    "\n",
    "    if w < 0:\n",
    "        q = -q\n",
    "\n",
    "    phi = 2*math.acos(w)\n",
    "\n",
    "    if abs(w) == 1:\n",
    "        p = np.array([1, 0, 0])\n",
    "    else:\n",
    "        v = np.array([q[0], q[1], q[2]])\n",
    "        v_norma = math.sqrt(v[0]**2 + v[1]**2 + v[2]**2)\n",
    "        p = v * (1/v_norma)\n",
    "\n",
    "    return p, phi"
   ]
  },
  {
   "cell_type": "code",
   "execution_count": 14,
   "metadata": {},
   "outputs": [],
   "source": [
    "# p, phi = Q2AxisAngle(q)\n",
    "# print(\"Jedinicni vektor p i kvaternion:\")\n",
    "# print(p, phi) "
   ]
  },
  {
   "cell_type": "markdown",
   "metadata": {},
   "source": [
    "# TESTIRANJE                                                                      "
   ]
  },
  {
   "cell_type": "markdown",
   "metadata": {},
   "source": [
    "1. Euler2A[psi,theta,phi]"
   ]
  },
  {
   "cell_type": "code",
   "execution_count": 15,
   "metadata": {},
   "outputs": [
    {
     "name": "stdout",
     "output_type": "stream",
     "text": [
      "Matrica A za zadati test primer:\n",
      "[[ 0.11111111 -0.88888889 -0.44444444]\n",
      " [ 0.44444444  0.44444444 -0.77777778]\n",
      " [ 0.88888889 -0.11111111  0.44444444]]\n",
      "\n",
      "\n",
      "Matrica A za n koji je jednak mom broju indeksa 105:\n",
      "[[ 0.46623611 -0.48465422  0.74009065]\n",
      " [ 0.80754464  0.57476783 -0.13233895]\n",
      " [-0.36124167  0.65935744  0.65935744]]\n"
     ]
    }
   ],
   "source": [
    "A = Euler2A(-math.atan(1/4),-math.asin(8/9),math.atan(4))\n",
    "print(\"Matrica A za zadati test primer:\")\n",
    "print(A)\n",
    "print(\"\\n\")\n",
    "#Broj indeksa je 105\n",
    "phi_test=2*math.pi/8*(105%7+1)\n",
    "theta_test=math.pi/17*(105%8+1)\n",
    "psi_test=2*math.pi/6*(105%5+1)\n",
    "TEST = Euler2A(phi_test,theta_test,psi_test)\n",
    "print(\"Matrica A za n koji je jednak mom broju indeksa 105:\")\n",
    "print(TEST)"
   ]
  },
  {
   "cell_type": "markdown",
   "metadata": {},
   "source": [
    "2. AxisAngle[A]\n"
   ]
  },
  {
   "cell_type": "code",
   "execution_count": 16,
   "metadata": {},
   "outputs": [
    {
     "name": "stdout",
     "output_type": "stream",
     "text": [
      "Test primer\n",
      "p:\n",
      "[[ 0.33333333 -0.66666667  0.66666667]]\n",
      "\n",
      "Ugao:\n",
      "1.5707963267948966\n",
      "\n",
      "\n",
      "Test primer za moj index\n",
      "p:\n",
      "[[0.42260674 0.58789008 0.68977445]]\n",
      "\n",
      "Ugao:\n",
      "1.213032325303286\n"
     ]
    }
   ],
   "source": [
    "p, phi1 = AxisAngle(A)\n",
    "print(\"Test primer\")\n",
    "print(\"p:\")\n",
    "print(p)\n",
    "print(\"\\nUgao:\")\n",
    "print(phi1)\n",
    "print(\"\\n\")\n",
    "print(\"Test primer za moj index\")\n",
    "print(\"p:\")\n",
    "p_test, phi1_test = AxisAngle(TEST)\n",
    "print(p_test)\n",
    "print(\"\\nUgao:\")\n",
    "print(phi1_test)"
   ]
  },
  {
   "cell_type": "markdown",
   "metadata": {},
   "source": [
    "3. Rodrigez[p,phi] "
   ]
  },
  {
   "cell_type": "code",
   "execution_count": 17,
   "metadata": {},
   "outputs": [
    {
     "name": "stdout",
     "output_type": "stream",
     "text": [
      "Test primer\n",
      "[[ 0.11111111 -0.88888889 -0.44444444]\n",
      " [ 0.44444444  0.44444444 -0.77777778]\n",
      " [ 0.88888889 -0.11111111  0.44444444]]\n",
      "\n",
      "\n",
      "Test primer za moj index\n",
      "[[ 0.46623611 -0.48465422  0.74009065]\n",
      " [ 0.80754464  0.57476783 -0.13233895]\n",
      " [-0.36124167  0.65935744  0.65935744]]\n"
     ]
    }
   ],
   "source": [
    "print(\"Test primer\")\n",
    "R = rodrigez(p,phi1)\n",
    "print(R)\n",
    "print(\"\\n\")\n",
    "print(\"Test primer za moj index\")\n",
    "R_test = rodrigez(p_test,phi1_test)\n",
    "print(R_test)\n",
    "#Kao sto je i trebalo dobili smo matricu \n",
    "#jednaku matrici A koju smo nasli pod 1)"
   ]
  },
  {
   "cell_type": "markdown",
   "metadata": {},
   "source": [
    "4. A2Euler[A]"
   ]
  },
  {
   "cell_type": "code",
   "execution_count": 18,
   "metadata": {},
   "outputs": [
    {
     "name": "stdout",
     "output_type": "stream",
     "text": [
      "Test primer:\n",
      "Phi:  -0.24497866312686414\n",
      "Theta:  -1.09491407713448\n",
      "Psi:  1.3258176636680326\n",
      "\n",
      "\n",
      "Test primer za moj index\n",
      "Phi:  0.7853981633974483\n",
      "Theta:  0.36959913571644626\n",
      "Psi:  1.0471975511965976\n"
     ]
    }
   ],
   "source": [
    "print(\"Test primer:\")\n",
    "phi, theta, psi = A2Euler(A)\n",
    "print(\"Phi: \", phi) \n",
    "print(\"Theta: \", theta)\n",
    "print(\"Psi: \", psi)\n",
    "print(\"\\n\")\n",
    "print(\"Test primer za moj index\")\n",
    "phi_test,theta_test,psi_test=A2Euler(TEST)\n",
    "print(\"Phi: \", phi_test) \n",
    "print(\"Theta: \", theta_test)\n",
    "print(\"Psi: \", psi_test)"
   ]
  },
  {
   "cell_type": "markdown",
   "metadata": {},
   "source": [
    "5. AxisAngle2Q[p,phi]"
   ]
  },
  {
   "cell_type": "code",
   "execution_count": 19,
   "metadata": {},
   "outputs": [
    {
     "name": "stdout",
     "output_type": "stream",
     "text": [
      "Kvaternion:\n",
      "[ 0.23570226 -0.47140452  0.47140452  0.70710678]\n",
      "Test primer za moj index\n",
      "[0.24088942 0.33510233 0.39317728 0.82163882]\n"
     ]
    }
   ],
   "source": [
    "q = AxisAngle2Q(p, phi1)\n",
    "print(\"Kvaternion:\")\n",
    "print(q)\n",
    "print(\"Test primer za moj index\")\n",
    "qq=AxisAngle2Q(p_test,phi1_test)\n",
    "print(qq)"
   ]
  },
  {
   "cell_type": "markdown",
   "metadata": {},
   "source": [
    "6. Q2AxisAngle[q] "
   ]
  },
  {
   "cell_type": "code",
   "execution_count": 22,
   "metadata": {},
   "outputs": [
    {
     "name": "stdout",
     "output_type": "stream",
     "text": [
      "Jedinicni vektor p i kvaternion:\n",
      "[ 0.33333333 -0.66666667  0.66666667] 1.5707963267948966\n",
      "Test primer za moj index\n",
      "[0.42260674 0.58789008 0.68977445] 1.2130323253032858\n"
     ]
    }
   ],
   "source": [
    "p, phi = Q2AxisAngle(q)\n",
    "print(\"Jedinicni vektor p i kvaternion:\")\n",
    "print(p, phi)\n",
    "print(\"Test primer za moj index\")\n",
    "pp,pphi=Q2AxisAngle(qq)\n",
    "print(pp,pphi)\n",
    "#Dobili smo isto kao i u AxisAngle[A]."
   ]
  }
 ],
 "metadata": {
  "kernelspec": {
   "display_name": "Python 3",
   "language": "python",
   "name": "python3"
  },
  "language_info": {
   "codemirror_mode": {
    "name": "ipython",
    "version": 3
   },
   "file_extension": ".py",
   "mimetype": "text/x-python",
   "name": "python",
   "nbconvert_exporter": "python",
   "pygments_lexer": "ipython3",
   "version": "3.8.5"
  }
 },
 "nbformat": 4,
 "nbformat_minor": 4
}
